{
 "cells": [
  {
   "cell_type": "code",
   "execution_count": 20,
   "metadata": {
    "collapsed": false
   },
   "outputs": [],
   "source": [
    "import nltk\n",
    "import random\n",
    "\n",
    "\n",
    "file = open('sherlock.txt', 'r')\n",
    "words = file.read()\n",
    "words = words.split()"
   ]
  },
  {
   "cell_type": "code",
   "execution_count": 21,
   "metadata": {
    "collapsed": true
   },
   "outputs": [],
   "source": [
    "def makePairs(arr):\n",
    "    return [(arr[i], arr[i+1]) for i in xrange(len(arr)-1)]"
   ]
  },
  {
   "cell_type": "code",
   "execution_count": 22,
   "metadata": {
    "collapsed": false
   },
   "outputs": [],
   "source": [
    "'''\n",
    "model: conditional frequency distribution,\n",
    "word: starting word,\n",
    "num: numbers of words to generate\n",
    "'''\n",
    "def generate(model, word = 'the', num = 50):\n",
    "    for i in range(num):\n",
    "        arr = []\n",
    "        for j in model[word]:\n",
    "            for _ in xrange(model[word][j]):\n",
    "                arr.append(j)\n",
    "        \n",
    "        print word,\n",
    "        word = arr[int(len(arr)*random.random())]"
   ]
  },
  {
   "cell_type": "code",
   "execution_count": 23,
   "metadata": {
    "collapsed": false
   },
   "outputs": [
    {
     "name": "stdout",
     "output_type": "stream",
     "text": [
      "the dead many a debt had yet I struck by surprise there might be wary and her alive, the feeling at the end yet. I fear, and kissed her, but it was angry, for the last left with Mr. Holmes.\" He would be surprised, and that she threw them together, as he can put it, was the word with my investigation.\" \"I can't be for yourselves for a time before I am for having examined every unsavoury pipe on the cabman's dazed, savage eyes fixed upon my companion. \"Sorry to help him down Torquay Terrace. Thus we need of San\n"
     ]
    }
   ],
   "source": [
    "pairs = makePairs(words)\n",
    "model = nltk.ConditionalFreqDist(pairs)\n",
    "generate(model, num = 100)"
   ]
  }
 ],
 "metadata": {
  "kernelspec": {
   "display_name": "Python 2",
   "language": "python",
   "name": "python2"
  },
  "language_info": {
   "codemirror_mode": {
    "name": "ipython",
    "version": 2
   },
   "file_extension": ".py",
   "mimetype": "text/x-python",
   "name": "python",
   "nbconvert_exporter": "python",
   "pygments_lexer": "ipython2",
   "version": "2.7.10"
  }
 },
 "nbformat": 4,
 "nbformat_minor": 0
}
